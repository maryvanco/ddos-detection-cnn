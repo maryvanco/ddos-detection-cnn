{
  "metadata": {
    "kernelspec": {
      "language": "python",
      "display_name": "Python 3",
      "name": "python3"
    },
    "language_info": {
      "name": "python",
      "version": "3.11.11",
      "mimetype": "text/x-python",
      "codemirror_mode": {
        "name": "ipython",
        "version": 3
      },
      "pygments_lexer": "ipython3",
      "nbconvert_exporter": "python",
      "file_extension": ".py"
    },
    "kaggle": {
      "accelerator": "none",
      "dataSources": [
        {
          "sourceId": 1530359,
          "sourceType": "datasetVersion",
          "datasetId": 902298
        }
      ],
      "dockerImageVersionId": 31040,
      "isInternetEnabled": false,
      "language": "python",
      "sourceType": "notebook",
      "isGpuEnabled": false
    },
    "colab": {
      "provenance": []
    }
  },
  "nbformat_minor": 0,
  "nbformat": 4,
  "cells": [
    {
      "cell_type": "markdown",
      "source": [
        "# **Lightweight CNN Model**"
      ],
      "metadata": {
        "id": "oStLD7S9nhHf"
      }
    },
    {
      "cell_type": "markdown",
      "source": [
        "**Goal:** The lightweight CNN model is designed to detect patterns in the encoded feature vectors from IoT network data.\n",
        "\n",
        "**CNN model:** The model uses 1D convolutional layers to slide small filters across the input, identifying local dependencies between features that may indicate DDoS attacks. Max pooling layers follow each convolution to reduce dimensionality and highlight the most important features, making the model faster and less prone to overfitting. After flattening, the data passes through a small fully connected layer with dropout for regularization, followed by a sigmoid-activated output layer that produces a probability for binary classification. This structure balances accuracy and speed, making it well-suited for deployment on resource-limited IoT devices.\n",
        "\n",
        "**Loss Function and Optimizer:** We use nn.BCELoss() as the loss function and the Adam optimizer to train the CNN. Binary Cross Entropy Loss is well-suited for binary classification tasks like DDoS detection, where the model outputs a probability between 0 and 1 indicating whether a given network input represents an attack. The Adam optimizer is chosen because it adapts the learning rate for each parameter individually, leading to faster and more stable convergence, which is important when training on large, complex datasets. This combination of loss function and optimizer balances efficiency and performance.\n",
        "\n",
        "A learning rate of 1e-3 was chosen because it is a commonly used default for the Adam optimizer and generally provides a good balance between fast convergence and stable learning. Because the input data is reduced and normalized, the gradients tend to be well-behaved, making 1e-3 a safe and effective choice for this binary classification task.\n",
        "\n",
        "**Training:** We set the number of training epochs to 20 as a reasonable upper limit, given the lightweight nature of the CNN and the expectation that the model would converge relatively quickly. To avoid overfitting and unnecessary training, we implemented early stopping with a patience of 3 epochs, meaning training stops if the validation loss doesn't improve for three consecutive epochs. This approach helps ensure efficient training while maintaining model generalization."
      ],
      "metadata": {
        "id": "l07qTivynqr-"
      }
    },
    {
      "cell_type": "code",
      "source": [
        "# Libraries\n",
        "\n",
        "# Data manipulation\n",
        "import pandas as pd\n",
        "import numpy as np\n",
        "\n",
        "# Deep learning framework\n",
        "import torch\n",
        "import torch.nn as nn                   # For building neural network layers\n",
        "import torch.nn.functional as F        # For activation functions and loss\n",
        "from torch.utils.data import DataLoader, TensorDataset  # For batching and dataset handling\n",
        "import torch.optim as optim            # For optimizers\n",
        "\n",
        "# Model evaluation\n",
        "from sklearn.model_selection import train_test_split    # For splitting data\n",
        "from sklearn.metrics import (                           # For evaluation metrics\n",
        "    accuracy_score, precision_score, recall_score,\n",
        "    f1_score, roc_auc_score, confusion_matrix, roc_curve\n",
        ")\n",
        "\n",
        "# Visualization\n",
        "import matplotlib.pyplot as plt\n",
        "import seaborn as sns\n",
        "\n",
        "# Utilities\n",
        "import copy            # For saving best model weights\n",
        "import time            # For measuring training/inference time\n",
        "import os              # For file system operations"
      ],
      "metadata": {
        "id": "Ps5wn-3NdV0-"
      },
      "execution_count": 2,
      "outputs": []
    },
    {
      "cell_type": "code",
      "source": [
        "# Load extracted features datasets\n",
        "X_train_features = pd.read_csv(\"X_train_features 1(in).csv\")\n",
        "X_val_features = pd.read_csv(\"X_val_features(in).csv\")\n",
        "X_test_features = pd.read_csv(\"X_test_features(in).csv\")\n",
        "y_train = pd.read_csv(\"y_train(in).csv\")\n",
        "y_val = pd.read_csv(\"y_val(in).csv\")\n",
        "y_test = pd.read_csv(\"y_test(in).csv\")"
      ],
      "metadata": {
        "trusted": true,
        "id": "KIwwU-fOwfhd"
      },
      "outputs": [],
      "execution_count": 3
    },
    {
      "cell_type": "code",
      "source": [
        "# Convert to numpy arrays\n",
        "X_train_features = X_train_features.to_numpy()\n",
        "X_val_features =  X_val_features.to_numpy()\n",
        "X_test_features =  X_test_features.to_numpy()\n",
        "y_train = y_train.to_numpy()\n",
        "y_val = y_val.to_numpy()\n",
        "y_test = y_test.to_numpy()"
      ],
      "metadata": {
        "id": "5eBRIiXXwwy6"
      },
      "execution_count": 4,
      "outputs": []
    },
    {
      "cell_type": "code",
      "source": [
        "# Make sure we're on GPU if available\n",
        "device = torch.device(\"cuda\" if torch.cuda.is_available() else \"cpu\")\n",
        "print(f\"Using device: {device}\")"
      ],
      "metadata": {
        "id": "EHRufu0LHmRv",
        "colab": {
          "base_uri": "https://localhost:8080/"
        },
        "outputId": "c2e720ea-1291-4749-f81b-87a2cd445af2"
      },
      "execution_count": 5,
      "outputs": [
        {
          "output_type": "stream",
          "name": "stdout",
          "text": [
            "Using device: cpu\n"
          ]
        }
      ]
    },
    {
      "cell_type": "markdown",
      "source": [
        "## Prepare Data"
      ],
      "metadata": {
        "id": "dC4Fllz-3fYi"
      }
    },
    {
      "cell_type": "code",
      "source": [
        "# Reshape input for CNN\n",
        "def prepare_cnn_input(extracted_features):\n",
        "    if isinstance(extracted_features, np.ndarray):\n",
        "        extracted_features = torch.tensor(extracted_features, dtype=torch.float32)\n",
        "    return extracted_features.unsqueeze(1)  # Add channel dimension"
      ],
      "metadata": {
        "trusted": true,
        "execution": {
          "iopub.status.busy": "2025-06-11T16:36:58.741962Z",
          "iopub.execute_input": "2025-06-11T16:36:58.743503Z",
          "iopub.status.idle": "2025-06-11T16:36:58.750222Z",
          "shell.execute_reply.started": "2025-06-11T16:36:58.743448Z",
          "shell.execute_reply": "2025-06-11T16:36:58.748838Z"
        },
        "id": "RrCP8Q1Wwfhd"
      },
      "outputs": [],
      "execution_count": 6
    },
    {
      "cell_type": "code",
      "source": [
        "X_train_cnn = prepare_cnn_input(X_train_features)\n",
        "X_val_cnn = prepare_cnn_input(X_val_features)\n",
        "X_test_cnn = prepare_cnn_input(X_test_features)"
      ],
      "metadata": {
        "trusted": true,
        "id": "LV88qApvwfhd"
      },
      "outputs": [],
      "execution_count": 7
    },
    {
      "cell_type": "code",
      "source": [
        "# Create DataLoaders\n",
        "train_dataset = TensorDataset(X_train_cnn, torch.tensor(y_train, dtype=torch.float32))\n",
        "val_dataset = TensorDataset(X_val_cnn, torch.tensor(y_val, dtype=torch.float32))\n",
        "test_dataset = TensorDataset(X_test_cnn, torch.tensor(y_test, dtype=torch.float32))\n",
        "\n",
        "train_loader = DataLoader(train_dataset, batch_size=64, shuffle=True)\n",
        "val_loader = DataLoader(val_dataset, batch_size=64)\n",
        "test_loader = DataLoader(test_dataset, batch_size=64)"
      ],
      "metadata": {
        "trusted": true,
        "id": "6e_XvsUxwfhd"
      },
      "outputs": [],
      "execution_count": 8
    },
    {
      "cell_type": "markdown",
      "source": [
        "## Create model\n",
        "\n",
        "**Define LightweightCNN class**\n",
        "*   Implemented a small 1D CNN with two convolutional layers, each followed by ReLU activation\n",
        "*   Included a max pooling layer to reduce feature length and highlight key patterns.\n",
        "*   Flattened the output and passed it through a fully connected layer with ReLU and a dropout layer (30%) to reduce overfitting.\n",
        "*   Final output layer uses a sigmoid activation for binary classification.\n",
        "\n",
        "**Small test case**\n",
        "*   Created a dummy input tensor with shape [4, 1, 5] to verify that the CNN processes data correctly.\n",
        "*   Printed the output shape and values to confirm the forward pass works as expected.\n",
        "\n",
        "**Initialize the CNN for training**\n",
        "*   Set input_length based on the actual training data shape (X_train_cnn).\n",
        "*   Defined the loss function (BCELoss) for binary classification.\n",
        "*   Configured the Adam optimizer with a learning rate of 0.001 to update model weights during training."
      ],
      "metadata": {
        "id": "_syAJfNk3xkn"
      }
    },
    {
      "cell_type": "code",
      "source": [
        "class LightweightCNN(nn.Module):\n",
        "    def __init__(self, input_length=5):\n",
        "        super(LightweightCNN, self).__init__()\n",
        "        self.conv1 = nn.Conv1d(in_channels=1, out_channels=8, kernel_size=2)  # First convolutional layer\n",
        "        self.pool = nn.MaxPool1d(kernel_size=2)                               # Max pooling layer\n",
        "        self.conv2 = nn.Conv1d(in_channels=8, out_channels=16, kernel_size=2) # Second convolutional layer\n",
        "\n",
        "        self.flattened_size = 16 * 1 # for use in the fully connected layer\n",
        "\n",
        "        self.fc1 = nn.Linear(self.flattened_size, 16)\n",
        "        self.dropout = nn.Dropout(0.3) # Dropout for regularization\n",
        "        self.fc2 = nn.Linear(16, 1)    # Binary classification\n",
        "\n",
        "    def forward(self, x):\n",
        "        x = F.relu(self.conv1(x))  # conv1 + ReLU\n",
        "        x = self.pool(x)           # Max pooling\n",
        "        x = F.relu(self.conv2(x))  # conv2 + ReLU\n",
        "        x = x.view(-1, self.flattened_size) # Flatten for fully connected layers\n",
        "\n",
        "        # Dense layer + dropout + final output\n",
        "        x = self.dropout(F.relu(self.fc1(x)))\n",
        "        x = torch.sigmoid(self.fc2(x))\n",
        "        return x"
      ],
      "metadata": {
        "trusted": true,
        "execution": {
          "iopub.status.busy": "2025-06-11T16:37:16.102992Z",
          "iopub.execute_input": "2025-06-11T16:37:16.103329Z",
          "iopub.status.idle": "2025-06-11T16:37:16.111530Z",
          "shell.execute_reply.started": "2025-06-11T16:37:16.103305Z",
          "shell.execute_reply": "2025-06-11T16:37:16.110698Z"
        },
        "id": "Pq2tDcr6wfhd"
      },
      "outputs": [],
      "execution_count": 9
    },
    {
      "cell_type": "code",
      "source": [
        "# Test case\n",
        "input_length = 5\n",
        "dummy_input = torch.randn(4, 1, input_length)\n",
        "model = LightweightCNN(input_length=input_length)\n",
        "output = model(dummy_input)\n",
        "print(\"Output shape:\", output.shape)\n",
        "print(\"Output values:\", output)"
      ],
      "metadata": {
        "trusted": true,
        "execution": {
          "iopub.status.busy": "2025-06-11T16:37:37.918778Z",
          "iopub.execute_input": "2025-06-11T16:37:37.919178Z",
          "iopub.status.idle": "2025-06-11T16:37:38.166076Z",
          "shell.execute_reply.started": "2025-06-11T16:37:37.919151Z",
          "shell.execute_reply": "2025-06-11T16:37:38.165097Z"
        },
        "id": "_h6ra8g8wfhe",
        "outputId": "8516e4ea-e1f0-478d-d617-ad415e310c76",
        "colab": {
          "base_uri": "https://localhost:8080/"
        }
      },
      "outputs": [
        {
          "output_type": "stream",
          "name": "stdout",
          "text": [
            "Output shape: torch.Size([4, 1])\n",
            "Output values: tensor([[0.4959],\n",
            "        [0.5088],\n",
            "        [0.4832],\n",
            "        [0.4777]], grad_fn=<SigmoidBackward0>)\n"
          ]
        }
      ],
      "execution_count": 10
    },
    {
      "cell_type": "code",
      "source": [
        "# Initialize model, loss, optimizer\n",
        "input_length = X_train_cnn.shape[2]\n",
        "model = LightweightCNN(input_length).to(device)\n",
        "\n",
        "criterion = nn.BCELoss()\n",
        "optimizer = torch.optim.Adam(model.parameters(), lr=1e-3)"
      ],
      "metadata": {
        "trusted": true,
        "id": "_gPZYd0Awfhe"
      },
      "outputs": [],
      "execution_count": 11
    },
    {
      "cell_type": "markdown",
      "source": [
        "## Training Loop\n",
        "*   Defined train_model function and trained CNN with num_epochs=20 epochs and patience=3\n",
        "*   For each epoch, trained the model on batches from train_loader by computing predictions, loss, gradients, and updating weights\n",
        "*   Evaluated the model on val_loader without gradient updates to calculate validation loss.\n",
        "*   Early stopping checks if validation loss improves and stops training early if no improvement occurs\n",
        "*   The best-performing weights were loaded into the model and this final model returned"
      ],
      "metadata": {
        "id": "VNOEk7zY4Au4"
      }
    },
    {
      "cell_type": "code",
      "source": [
        "# Training loop with early stopping\n",
        "def train_model(model, train_loader, val_loader, criterion, optimizer, num_epochs=20, patience=3):\n",
        "    best_model_wts = copy.deepcopy(model.state_dict())\n",
        "    best_val_loss = float('inf')\n",
        "    epochs_no_improve = 0\n",
        "\n",
        "    for epoch in range(num_epochs):\n",
        "        model.train()\n",
        "        train_loss = 0.0\n",
        "\n",
        "        for inputs, labels in train_loader:\n",
        "            inputs = inputs.to(device)\n",
        "            labels = labels.to(device).float().view(-1, 1)\n",
        "\n",
        "            optimizer.zero_grad()\n",
        "            outputs = model(inputs)\n",
        "            loss = criterion(outputs, labels)\n",
        "            loss.backward()\n",
        "            optimizer.step()\n",
        "            train_loss += loss.item() * inputs.size(0)\n",
        "\n",
        "        train_loss /= len(train_loader.dataset)\n",
        "\n",
        "        # Validation\n",
        "        model.eval()\n",
        "        val_loss = 0.0\n",
        "        with torch.no_grad():\n",
        "            for inputs, labels in val_loader:\n",
        "                inputs = inputs.to(device)\n",
        "                labels = labels.to(device).float().view(-1, 1)\n",
        "                outputs = model(inputs)\n",
        "                loss = criterion(outputs, labels)\n",
        "                val_loss += loss.item() * inputs.size(0)\n",
        "\n",
        "        val_loss /= len(val_loader.dataset)\n",
        "        print(f\"Epoch {epoch+1}: Train Loss={train_loss:.4f}, Val Loss={val_loss:.4f}\")\n",
        "\n",
        "        # Early stopping check\n",
        "        if val_loss < best_val_loss:\n",
        "            best_val_loss = val_loss\n",
        "            best_model_wts = copy.deepcopy(model.state_dict())\n",
        "            epochs_no_improve = 0\n",
        "        else:\n",
        "            epochs_no_improve += 1\n",
        "            if epochs_no_improve >= patience:\n",
        "                print(\"Early stopping triggered\")\n",
        "                break\n",
        "\n",
        "    model.load_state_dict(best_model_wts)\n",
        "    return model"
      ],
      "metadata": {
        "trusted": true,
        "id": "2SWt1kULwfhe"
      },
      "outputs": [],
      "execution_count": 12
    },
    {
      "cell_type": "code",
      "source": [
        "# Train\n",
        "model = train_model(model, train_loader, val_loader, criterion, optimizer)"
      ],
      "metadata": {
        "trusted": true,
        "id": "lHmlXZgYwfhe",
        "colab": {
          "base_uri": "https://localhost:8080/"
        },
        "outputId": "63f5d992-b186-4c9c-9605-d1784ec35af3"
      },
      "outputs": [
        {
          "output_type": "stream",
          "name": "stdout",
          "text": [
            "Epoch 1: Train Loss=0.0880, Val Loss=0.0714\n",
            "Epoch 2: Train Loss=0.0745, Val Loss=0.0688\n",
            "Epoch 3: Train Loss=0.0725, Val Loss=0.0679\n",
            "Epoch 4: Train Loss=0.0719, Val Loss=0.0675\n",
            "Epoch 5: Train Loss=0.0714, Val Loss=0.0696\n",
            "Epoch 6: Train Loss=0.0705, Val Loss=0.0667\n",
            "Epoch 7: Train Loss=0.0701, Val Loss=0.0689\n",
            "Epoch 8: Train Loss=0.0698, Val Loss=0.0663\n",
            "Epoch 9: Train Loss=0.0695, Val Loss=0.0682\n",
            "Epoch 10: Train Loss=0.0695, Val Loss=0.0660\n",
            "Epoch 11: Train Loss=0.0696, Val Loss=0.0660\n",
            "Epoch 12: Train Loss=0.0689, Val Loss=0.0663\n",
            "Epoch 13: Train Loss=0.0694, Val Loss=0.0671\n",
            "Epoch 14: Train Loss=0.0691, Val Loss=0.0660\n",
            "Early stopping triggered\n"
          ]
        }
      ],
      "execution_count": 13
    },
    {
      "cell_type": "markdown",
      "source": [
        "## Evaluate\n",
        "*   Performace metrics were computed using testing data\n",
        "*   Confusion matrix and ROC curve visualizations were created\n",
        "*   Inference time was calculated using a function"
      ],
      "metadata": {
        "id": "c0NuoP_g4ViX"
      }
    },
    {
      "cell_type": "code",
      "source": [
        "# Set model to evaluation mode\n",
        "model.eval()\n",
        "\n",
        "# Store predictions and true labels\n",
        "y_true = []\n",
        "y_probs = []\n",
        "\n",
        "with torch.no_grad():\n",
        "    for inputs, labels in test_loader:\n",
        "        inputs = inputs.to(device)\n",
        "        labels = labels.to(device)\n",
        "\n",
        "        outputs = model(inputs)\n",
        "        y_probs.extend(outputs.cpu().numpy())\n",
        "        y_true.extend(labels.cpu().numpy())\n",
        "\n",
        "# Convert outputs to predicted class (threshold = 0.5)\n",
        "y_probs = torch.tensor(y_probs).numpy()\n",
        "y_pred = (y_probs > 0.5).astype(int)\n",
        "\n",
        "# Compute metrics\n",
        "acc = accuracy_score(y_true, y_pred)\n",
        "prec = precision_score(y_true, y_pred)\n",
        "rec = recall_score(y_true, y_pred)\n",
        "f1 = f1_score(y_true, y_pred)\n",
        "auc = roc_auc_score(y_true, y_probs)\n",
        "\n",
        "print(\"\\nCNN Evaluation on Test Set:\")\n",
        "print(f\"Accuracy : {acc:.4f}\")\n",
        "print(f\"Precision: {prec:.4f}\")\n",
        "print(f\"Recall   : {rec:.4f}\")\n",
        "print(f\"F1 Score : {f1:.4f}\")\n",
        "print(f\"AUC-ROC  : {auc:.4f}\")\n",
        "\n",
        "# Confusion matrix\n",
        "cm = confusion_matrix(y_true, y_pred)\n",
        "plt.figure(figsize=(5, 4))\n",
        "sns.heatmap(cm, annot=True, fmt='d', cmap='Blues', xticklabels=['0', '1'], yticklabels=['0', '1'])\n",
        "plt.title(\"Confusion Matrix\")\n",
        "plt.xlabel(\"Predicted\")\n",
        "plt.ylabel(\"Actual\")\n",
        "plt.show()\n",
        "\n",
        "# ROC curve\n",
        "fpr, tpr, _ = roc_curve(y_true, y_probs)\n",
        "plt.figure(figsize=(6, 5))\n",
        "plt.plot(fpr, tpr, label=f\"AUC = {auc:.4f}\")\n",
        "plt.plot([0, 1], [0, 1], '--', color='gray')\n",
        "plt.xlabel(\"False Positive Rate\")\n",
        "plt.ylabel(\"True Positive Rate\")\n",
        "plt.title(\"ROC Curve\")\n",
        "plt.legend()\n",
        "plt.grid(True)\n",
        "plt.show()"
      ],
      "metadata": {
        "trusted": true,
        "id": "Xpq5t1EWwfhe",
        "colab": {
          "base_uri": "https://localhost:8080/",
          "height": 1000
        },
        "outputId": "dfbbbe9b-bf0b-4a4c-d73a-05bd365e55f1"
      },
      "outputs": [
        {
          "output_type": "stream",
          "name": "stderr",
          "text": [
            "/tmp/ipython-input-14-575031100.py:18: UserWarning: Creating a tensor from a list of numpy.ndarrays is extremely slow. Please consider converting the list to a single numpy.ndarray with numpy.array() before converting to a tensor. (Triggered internally at /pytorch/torch/csrc/utils/tensor_new.cpp:254.)\n",
            "  y_probs = torch.tensor(y_probs).numpy()\n"
          ]
        },
        {
          "output_type": "stream",
          "name": "stdout",
          "text": [
            "\n",
            "CNN Evaluation on Test Set:\n",
            "Accuracy : 0.9986\n",
            "Precision: 0.9983\n",
            "Recall   : 0.9988\n",
            "F1 Score : 0.9986\n",
            "AUC-ROC  : 0.9993\n"
          ]
        },
        {
          "output_type": "display_data",
          "data": {
            "text/plain": [
              "<Figure size 500x400 with 2 Axes>"
            ],
            "image/png": "[encoded data removed]"
          },
          "metadata": {}
        },
        {
          "output_type": "display_data",
          "data": {
            "text/plain": [
              "<Figure size 600x500 with 1 Axes>"
            ],
            "image/png": "[encoded data removed]"
          },
          "metadata": {}
        }
      ],
      "execution_count": 14
    },
    {
      "cell_type": "code",
      "source": [
        "# Get model size and inference time\n",
        "def get_model_size(model):\n",
        "    torch.save(model.state_dict(), \"temp.pth\")\n",
        "    size_mb = os.path.getsize(\"temp.pth\") / (1024 * 1024)\n",
        "    os.remove(\"temp.pth\")\n",
        "    return size_mb\n",
        "\n",
        "def measure_inference_time(model, loader):\n",
        "    model.eval()\n",
        "    total_time = 0.0\n",
        "    total_samples = 0\n",
        "\n",
        "    with torch.no_grad():\n",
        "        for inputs, _ in loader:\n",
        "            inputs = inputs.to(device)\n",
        "            batch_size = inputs.size(0)\n",
        "\n",
        "            if device.type == 'cuda':\n",
        "                torch.cuda.synchronize()\n",
        "\n",
        "            start_time = time.time()\n",
        "            _ = model(inputs)\n",
        "\n",
        "            if device.type == 'cuda':\n",
        "                torch.cuda.synchronize()\n",
        "\n",
        "            end_time = time.time()\n",
        "\n",
        "            total_time += (end_time - start_time)\n",
        "            total_samples += batch_size\n",
        "\n",
        "    avg_time_per_sample = total_time / total_samples\n",
        "\n",
        "    print(f\"\\nInference Speed Results:\")\n",
        "    print(f\"Total samples processed : {total_samples}\")\n",
        "    print(f\"Total inference time    : {total_time:.4f} seconds\")\n",
        "    print(f\"Average time per sample : {avg_time_per_sample * 1000:.4f} ms\")"
      ],
      "metadata": {
        "trusted": true,
        "id": "J_hlRNpuwfhe"
      },
      "outputs": [],
      "execution_count": 15
    },
    {
      "cell_type": "code",
      "source": [
        "# CNN model size and inference time\n",
        "print(f\"Model size: {get_model_size(model):.4f} MB\")\n",
        "measure_inference_time(model, test_loader)"
      ],
      "metadata": {
        "trusted": true,
        "id": "Et3WXwTZwfhe",
        "colab": {
          "base_uri": "https://localhost:8080/"
        },
        "outputId": "c944197e-4165-4d43-e375-1ab31f820cd0"
      },
      "outputs": [
        {
          "output_type": "stream",
          "name": "stdout",
          "text": [
            "Model size: 0.0048 MB\n",
            "\n",
            "Inference Speed Results:\n",
            "Total samples processed : 115239\n",
            "Total inference time    : 1.1694 seconds\n",
            "Average time per sample : 0.0101 ms\n"
          ]
        }
      ],
      "execution_count": 16
    }
  ]
}